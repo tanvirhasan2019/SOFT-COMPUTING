{
  "nbformat": 4,
  "nbformat_minor": 0,
  "metadata": {
    "colab": {
      "name": "Experiment_3.ipynb",
      "provenance": [],
      "collapsed_sections": []
    },
    "kernelspec": {
      "name": "python3",
      "display_name": "Python 3"
    },
    "language_info": {
      "name": "python"
    },
    "accelerator": "GPU"
  },
  "cells": [
    {
      "cell_type": "code",
      "metadata": {
        "id": "HT9i40sMM5lt"
      },
      "source": [
        "import os\n",
        "import pandas as pd\n",
        "import torch\n",
        "from torch.utils.data import Dataset, DataLoader  \n",
        "from skimage import io"
      ],
      "execution_count": 1,
      "outputs": []
    },
    {
      "cell_type": "code",
      "metadata": {
        "id": "EvahDt2be8xz"
      },
      "source": [
        "import torch\n",
        "import torch.nn as nn\n",
        "import torchvision.transforms as transforms"
      ],
      "execution_count": 2,
      "outputs": []
    },
    {
      "cell_type": "code",
      "metadata": {
        "id": "USeZSXxquQUZ"
      },
      "source": [
        ""
      ],
      "execution_count": null,
      "outputs": []
    },
    {
      "cell_type": "code",
      "metadata": {
        "colab": {
          "base_uri": "https://localhost:8080/"
        },
        "id": "cjT53blqLYw3",
        "outputId": "9068d574-cec8-4731-ee48-ef93331c4402"
      },
      "source": [
        "from google.colab import drive\n",
        "drive.mount('/content/drive')"
      ],
      "execution_count": 3,
      "outputs": [
        {
          "output_type": "stream",
          "name": "stdout",
          "text": [
            "Mounted at /content/drive\n"
          ]
        }
      ]
    },
    {
      "cell_type": "markdown",
      "metadata": {
        "id": "CdvCkig7I4fY"
      },
      "source": [
        "# Experiment 3"
      ]
    },
    {
      "cell_type": "code",
      "metadata": {
        "colab": {
          "base_uri": "https://localhost:8080/"
        },
        "id": "my-Lx-VJI5zT",
        "outputId": "21f338e9-665d-4559-fcf2-7903813292ca"
      },
      "source": [
        "!unzip \"/content/drive/MyDrive/SOFTCOM/DATASET EXPERIMENT 3/Dataset_2.zip\""
      ],
      "execution_count": 8,
      "outputs": [
        {
          "output_type": "stream",
          "name": "stdout",
          "text": [
            "Archive:  /content/drive/MyDrive/SOFTCOM/DATASET EXPERIMENT 3/Dataset_2.zip\n",
            "   creating: Dataset_2/\n",
            "  inflating: Dataset_2/t10k-images-idx3-ubyte  \n",
            "  inflating: Dataset_2/t10k-labels-idx1-ubyte  \n",
            "  inflating: Dataset_2/train-images-idx3-ubyte  \n",
            "  inflating: Dataset_2/train-labels-idx1-ubyte  \n",
            "  inflating: Dataset_2/verification_test.csv  \n",
            "  inflating: Dataset_2/verification_train.csv  \n"
          ]
        }
      ]
    },
    {
      "cell_type": "code",
      "metadata": {
        "id": "WpoWmdLjJLML"
      },
      "source": [
        "train_csv2  = pd.read_csv('/content/Dataset_2/verification_train.csv')\n",
        "test_csv2 = pd.read_csv('/content/Dataset_2/verification_test.csv')"
      ],
      "execution_count": 12,
      "outputs": []
    },
    {
      "cell_type": "code",
      "metadata": {
        "id": "rtmU_CAKJlVN"
      },
      "source": [
        "import numpy as np\n",
        "class second_Dataset(Dataset):\n",
        "    \"\"\"User defined class to build a datset using Pytorch class Dataset.\"\"\"\n",
        "    \n",
        "    def __init__(self, data, transform = None):\n",
        "        \"\"\"Method to initilaize variables.\"\"\" \n",
        "        self.data_MNIST = list(data.values)\n",
        "        self.transform = transform\n",
        "        \n",
        "        label = []\n",
        "        image = []\n",
        "        \n",
        "        for i in self.data_MNIST:\n",
        "             # first column is of labels.\n",
        "            label.append(i[0])\n",
        "            image.append(i[1:])\n",
        "        self.labels = np.asarray(label)\n",
        "        self.images = np.asarray(image).reshape(-1, 28, 28, 1).astype('float32')\n",
        "\n",
        "    def __getitem__(self, index):\n",
        "        label = self.labels[index]\n",
        "        image = self.images[index]\n",
        "        \n",
        "        if self.transform is not None:\n",
        "            image = self.transform(image)\n",
        "\n",
        "        return image, label\n",
        "\n",
        "    def __len__(self):\n",
        "        return len(self.images)"
      ],
      "execution_count": 13,
      "outputs": []
    },
    {
      "cell_type": "code",
      "metadata": {
        "id": "a1jEAEZCKQIU"
      },
      "source": [
        "train_set = second_Dataset(train_csv2, transform=transforms.Compose([transforms.ToTensor()]))\n",
        "test_set = second_Dataset(test_csv2, transform=transforms.Compose([transforms.ToTensor()]))\n",
        "\n",
        "train_loader = DataLoader(train_set, batch_size=100)\n",
        "test_loader = DataLoader(train_set, batch_size=100)"
      ],
      "execution_count": 14,
      "outputs": []
    },
    {
      "cell_type": "markdown",
      "metadata": {
        "id": "OywTz1uCLg_V"
      },
      "source": [
        "For experiment 1"
      ]
    },
    {
      "cell_type": "code",
      "metadata": {
        "id": "zS6BxZFxxtMk"
      },
      "source": [
        ""
      ],
      "execution_count": 14,
      "outputs": []
    },
    {
      "cell_type": "code",
      "metadata": {
        "colab": {
          "base_uri": "https://localhost:8080/"
        },
        "id": "Za7FBndHL3HN",
        "outputId": "76c1ec42-f07a-47a6-afd8-57e2a84c8b99"
      },
      "source": [
        "print(len(train_set))\n",
        "print(len(test_set))"
      ],
      "execution_count": 15,
      "outputs": [
        {
          "output_type": "stream",
          "name": "stdout",
          "text": [
            "60000\n",
            "10000\n"
          ]
        }
      ]
    },
    {
      "cell_type": "code",
      "metadata": {
        "colab": {
          "base_uri": "https://localhost:8080/"
        },
        "id": "tdJtSw82MSSB",
        "outputId": "4ca6e177-0a37-4018-e3f1-fd88ee4bcd9a"
      },
      "source": [
        "# Hyperparameters\n",
        "\n",
        "batch_size = 20\n",
        "num_iters = 20000\n",
        "input_dim = 28*28 # num_features = 784\n",
        "num_hidden = 200 # num of hidden nodes\n",
        "output_dim = 10\n",
        "\n",
        "learning_rate = 0.01  # More power so we can learn faster! previously it was 0.001\n",
        "\n",
        "# Device\n",
        "device = torch.device(\"cuda:0\" if torch.cuda.is_available() else \"cpu\")\n",
        "\n",
        "\n",
        "\n",
        "\n",
        "'''\n",
        "MAKING DATASET ITERABLE\n",
        "'''\n",
        "num_epochs = num_iters / (len(train_set) / batch_size)\n",
        "num_epochs = int(num_epochs)\n",
        "\n",
        "train_loader = torch.utils.data.DataLoader(dataset=train_set, \n",
        "                                           batch_size=batch_size, \n",
        "                                           shuffle=True)   # It's better to shuffle the whole training dataset! \n",
        "\n",
        "test_loader = torch.utils.data.DataLoader(dataset=test_set, \n",
        "                                          batch_size=batch_size, \n",
        "                                          shuffle=False)\n",
        "\n",
        "\n",
        "\n",
        "\n",
        "\n",
        "class DeepNeuralNetworkModel(nn.Module):\n",
        "    def __init__(self, input_size, num_classes, num_hidden):\n",
        "        super().__init__()\n",
        "        ### 1st hidden layer: 784 --> 100\n",
        "        self.linear_1 = nn.Linear(input_size, num_hidden)\n",
        "        ### Non-linearity in 1st hidden layer\n",
        "        self.relu_1 = nn.ReLU()\n",
        "\n",
        "        ### 2nd hidden layer: 100 --> 100\n",
        "        self.linear_2 = nn.Linear(num_hidden, num_hidden)\n",
        "        ### Non-linearity in 2nd hidden layer\n",
        "        self.relu_2 = nn.ReLU()\n",
        "\n",
        "        ### 3rd hidden layer: 100 --> 100\n",
        "        self.linear_3 = nn.Linear(num_hidden, num_hidden)\n",
        "        ### Non-linearity in 2nd hidden layer\n",
        "        self.relu_3 = nn.ReLU()\n",
        "\n",
        "        ### 4th hidden layer: 100 --> 100\n",
        "        self.linear_4 = nn.Linear(num_hidden, num_hidden)\n",
        "        ### Non-linearity in 2nd hidden layer\n",
        "        self.relu_4 = nn.ReLU()\n",
        "\n",
        "        ### 5th hidden layer: 100 --> 100\n",
        "        self.linear_5 = nn.Linear(num_hidden, num_hidden)\n",
        "        ### Non-linearity in 2nd hidden layer\n",
        "        self.relu_5 = nn.ReLU()\n",
        "\n",
        "        ### 6th hidden layer: 100 --> 100\n",
        "        self.linear_6 = nn.Linear(num_hidden, num_hidden)\n",
        "        ### Non-linearity in 2nd hidden layer\n",
        "        self.relu_6 = nn.ReLU()\n",
        "\n",
        "        ### Output layer: 100 --> 10\n",
        "        self.linear_out = nn.Linear(num_hidden, num_classes)\n",
        "\n",
        "    def forward(self, x):\n",
        "        ### 1st hidden layer\n",
        "        out  = self.linear_1(x)\n",
        "        ### Non-linearity in 1st hidden layer\n",
        "        out = self.relu_1(out)\n",
        "        \n",
        "        ### 2nd hidden layer\n",
        "        out  = self.linear_2(out)\n",
        "        ### Non-linearity in 2nd hidden layer\n",
        "        out = self.relu_2(out)\n",
        "        \n",
        "        ### 3rd hidden layer\n",
        "        out  = self.linear_3(out)\n",
        "        ### Non-linearity in 1st hidden layer\n",
        "        out = self.relu_3(out)\n",
        "        \n",
        "        ### 4th hidden layer\n",
        "        out  = self.linear_4(out)\n",
        "        ### Non-linearity in 2nd hidden layer\n",
        "        out = self.relu_4(out)\n",
        "\n",
        "        ### 5th hidden layer\n",
        "        out  = self.linear_5(out)\n",
        "        ### Non-linearity in 1st hidden layer\n",
        "        out = self.relu_5(out)\n",
        "        \n",
        "        ### 6th hidden layer\n",
        "        out  = self.linear_6(out)\n",
        "        ### Non-linearity in 2nd hidden layer\n",
        "        out = self.relu_6(out)\n",
        "     \n",
        "        # Linear layer (output)\n",
        "        probas  = self.linear_out(out)\n",
        "        return probas\n",
        "\n",
        "\n",
        "# INSTANTIATE MODEL CLASS\n",
        "\n",
        "model = DeepNeuralNetworkModel(input_size = input_dim,\n",
        "                               num_classes = output_dim,\n",
        "                               num_hidden = num_hidden)\n",
        "# To enable GPU\n",
        "model.to(device)\n",
        "\n",
        "# INSTANTIATE LOSS & OPTIMIZER CLASS\n",
        "\n",
        "criterion = nn.CrossEntropyLoss()\n",
        "optimizer = torch.optim.SGD(model.parameters(), lr=learning_rate)\n",
        "iteration_loss= []\n",
        "iter = 0\n",
        "for epoch in range(num_epochs):\n",
        "    for i, (images, labels) in enumerate(train_loader):\n",
        "\n",
        "        images = images.view(-1, 28*28).to(device)\n",
        "        labels = labels.to(device)\n",
        "\n",
        "        # Clear gradients w.r.t. parameters\n",
        "        optimizer.zero_grad()\n",
        "\n",
        "        # Forward pass to get output/logits\n",
        "        outputs = model(images) \n",
        "\n",
        "        # Calculate Loss: softmax --> cross entropy loss\n",
        "        loss = criterion(outputs, labels)\n",
        "\n",
        "        # Getting gradients w.r.t. parameters\n",
        "        loss.backward()\n",
        "\n",
        "        # Updating parameters\n",
        "        optimizer.step()\n",
        "\n",
        "        iter += 1\n",
        "\n",
        "        if iter % 500 == 0:\n",
        "            # Calculate Accuracy         \n",
        "            correct = 0\n",
        "            total = 0\n",
        "            # Iterate through test dataset\n",
        "            for images, labels in test_loader:\n",
        "               \n",
        "                images = images.view(-1, 28*28).to(device)\n",
        "\n",
        "                # Forward pass only to get logits/output\n",
        "                outputs = model(images)\n",
        "\n",
        "                # Get predictions from the maximum value\n",
        "                _, predicted = torch.max(outputs, 1)\n",
        "\n",
        "                # Total number of labels\n",
        "                total += labels.size(0)\n",
        "\n",
        "\n",
        "                # Total correct predictions\n",
        "                if torch.cuda.is_available():\n",
        "                    correct += (predicted.cpu() == labels.cpu()).sum() \n",
        "                else:\n",
        "                    correct += (predicted == labels).sum()\n",
        "\n",
        "            accuracy = 100 * correct.item() / total\n",
        "\n",
        "            # Print Loss\n",
        "            iteration_loss.append(loss.item())\n",
        "            print('Iteration: {}. Loss: {}. Accuracy: {}'.format(iter, loss.item(), accuracy))"
      ],
      "execution_count": 16,
      "outputs": [
        {
          "output_type": "stream",
          "name": "stdout",
          "text": [
            "Iteration: 500. Loss: 0.7160199284553528. Accuracy: 78.11\n",
            "Iteration: 1000. Loss: 0.700230598449707. Accuracy: 78.0\n",
            "Iteration: 1500. Loss: 0.3686603903770447. Accuracy: 82.44\n",
            "Iteration: 2000. Loss: 0.5869004726409912. Accuracy: 83.71\n",
            "Iteration: 2500. Loss: 0.22934956848621368. Accuracy: 83.95\n",
            "Iteration: 3000. Loss: 0.4403218626976013. Accuracy: 84.09\n",
            "Iteration: 3500. Loss: 0.21289999783039093. Accuracy: 82.91\n",
            "Iteration: 4000. Loss: 0.5259724855422974. Accuracy: 85.26\n",
            "Iteration: 4500. Loss: 0.5343539714813232. Accuracy: 84.78\n",
            "Iteration: 5000. Loss: 0.2520437240600586. Accuracy: 84.66\n",
            "Iteration: 5500. Loss: 0.598518967628479. Accuracy: 84.57\n",
            "Iteration: 6000. Loss: 0.22875098884105682. Accuracy: 86.52\n",
            "Iteration: 6500. Loss: 0.2107638418674469. Accuracy: 86.17\n",
            "Iteration: 7000. Loss: 0.08628343045711517. Accuracy: 86.35\n",
            "Iteration: 7500. Loss: 0.13289406895637512. Accuracy: 86.01\n",
            "Iteration: 8000. Loss: 0.19839534163475037. Accuracy: 86.49\n",
            "Iteration: 8500. Loss: 0.4490465223789215. Accuracy: 86.66\n",
            "Iteration: 9000. Loss: 0.49095019698143005. Accuracy: 86.2\n",
            "Iteration: 9500. Loss: 0.21124592423439026. Accuracy: 86.72\n",
            "Iteration: 10000. Loss: 0.31861552596092224. Accuracy: 87.48\n",
            "Iteration: 10500. Loss: 0.4109417796134949. Accuracy: 86.72\n",
            "Iteration: 11000. Loss: 0.20083971321582794. Accuracy: 86.92\n",
            "Iteration: 11500. Loss: 0.31610754132270813. Accuracy: 86.86\n",
            "Iteration: 12000. Loss: 0.6313844919204712. Accuracy: 87.19\n",
            "Iteration: 12500. Loss: 0.7037156224250793. Accuracy: 84.54\n",
            "Iteration: 13000. Loss: 0.14559344947338104. Accuracy: 87.76\n",
            "Iteration: 13500. Loss: 0.13930320739746094. Accuracy: 87.75\n",
            "Iteration: 14000. Loss: 0.254303514957428. Accuracy: 87.17\n",
            "Iteration: 14500. Loss: 0.48610615730285645. Accuracy: 87.44\n",
            "Iteration: 15000. Loss: 0.39640721678733826. Accuracy: 87.11\n",
            "Iteration: 15500. Loss: 0.21814444661140442. Accuracy: 88.65\n",
            "Iteration: 16000. Loss: 0.15438196063041687. Accuracy: 87.74\n",
            "Iteration: 16500. Loss: 0.25248008966445923. Accuracy: 87.97\n",
            "Iteration: 17000. Loss: 0.3746473491191864. Accuracy: 88.21\n",
            "Iteration: 17500. Loss: 0.1882941871881485. Accuracy: 86.23\n",
            "Iteration: 18000. Loss: 0.274647057056427. Accuracy: 87.42\n"
          ]
        }
      ]
    },
    {
      "cell_type": "code",
      "metadata": {
        "colab": {
          "base_uri": "https://localhost:8080/",
          "height": 316
        },
        "id": "Egeoid1fNCBc",
        "outputId": "8dcb786a-ac27-4381-b3f1-d9d3fbf861a6"
      },
      "source": [
        "import matplotlib\n",
        "import matplotlib.pyplot as plt\n",
        "\n",
        "print (iteration_loss)\n",
        "plt.plot(iteration_loss)\n",
        "plt.ylabel('Loss')\n",
        "plt.xlabel('Iteration (in every 500)')\n",
        "plt.show()"
      ],
      "execution_count": 17,
      "outputs": [
        {
          "output_type": "stream",
          "name": "stdout",
          "text": [
            "[0.7160199284553528, 0.700230598449707, 0.3686603903770447, 0.5869004726409912, 0.22934956848621368, 0.4403218626976013, 0.21289999783039093, 0.5259724855422974, 0.5343539714813232, 0.2520437240600586, 0.598518967628479, 0.22875098884105682, 0.2107638418674469, 0.08628343045711517, 0.13289406895637512, 0.19839534163475037, 0.4490465223789215, 0.49095019698143005, 0.21124592423439026, 0.31861552596092224, 0.4109417796134949, 0.20083971321582794, 0.31610754132270813, 0.6313844919204712, 0.7037156224250793, 0.14559344947338104, 0.13930320739746094, 0.254303514957428, 0.48610615730285645, 0.39640721678733826, 0.21814444661140442, 0.15438196063041687, 0.25248008966445923, 0.3746473491191864, 0.1882941871881485, 0.274647057056427]\n"
          ]
        },
        {
          "output_type": "display_data",
          "data": {
            "image/png": "[encoded data removed]",
            "text/plain": [
              "<Figure size 432x288 with 1 Axes>"
            ]
          },
          "metadata": {
            "needs_background": "light"
          }
        }
      ]
    },
    {
      "cell_type": "code",
      "metadata": {
        "id": "elXhZZXaQRR_"
      },
      "source": [
        ""
      ],
      "execution_count": 17,
      "outputs": []
    },
    {
      "cell_type": "markdown",
      "metadata": {
        "id": "EYDq9VlyQas5"
      },
      "source": [
        "For experiment 2"
      ]
    },
    {
      "cell_type": "code",
      "metadata": {
        "colab": {
          "base_uri": "https://localhost:8080/"
        },
        "id": "MjVggKBIQsiB",
        "outputId": "3c0e3044-942d-4b0e-88c3-ccc8a72be160"
      },
      "source": [
        "# Hyperparameters\n",
        "\n",
        "#Batch Parameters\n",
        "batch_size = 250\n",
        "num_iters = 20000\n",
        "input_dim = 28*28\n",
        "num_hidden = 400\n",
        "output_dim = 10\n",
        "\n",
        "learning_rate = 0.01\n",
        "\n",
        "num_epochs = num_iters / (len(train_set) / batch_size)\n",
        "num_epochs = int(num_epochs)\n",
        "print(num_epochs)\n",
        "\n",
        "device = torch.device(\"cuda:0\" if torch.cuda.is_available() else \"cpu\")\n",
        "\n",
        "\n",
        "\n",
        "'''\n",
        "MAKING DATASET ITERABLE\n",
        "'''\n",
        "\n",
        "train_loader = torch.utils.data.DataLoader(dataset=train_set, \n",
        "                                           batch_size=batch_size, \n",
        "                                           shuffle=True)   # It's better to shuffle the whole training dataset! \n",
        "\n",
        "test_loader = torch.utils.data.DataLoader(dataset=test_set, \n",
        "                                          batch_size=batch_size, \n",
        "                                          shuffle=False)  \n",
        "\n",
        "class DeepNeuralNetworkModel(nn.Module):\n",
        "    def __init__(self, input_size, num_classes, num_hidden):\n",
        "        super().__init__()\n",
        "\n",
        "       #First Hidden Layer\n",
        "        self.linear_1 = nn.Linear(input_size, num_hidden)\n",
        "        self.relu_1 = nn.ReLU()\n",
        "\n",
        "        #2nd Hidden Layer\n",
        "        self.linear_2 = nn.Linear(num_hidden, num_hidden)\n",
        "        self.relu_2 = nn.ReLU()\n",
        "\n",
        "         #3rd Hidden Layer\n",
        "        self.linear_3 = nn.Linear(num_hidden, num_hidden)\n",
        "        self.relu_3 = nn.Softmax(dim=0)\n",
        "\n",
        "         #4th Hidden Layer\n",
        "        self.linear_4 = nn.Linear(num_hidden, num_hidden)\n",
        "        self.relu_4 = nn.Softmax(dim=0)\n",
        "\n",
        "         #5th Hidden Layer\n",
        "        self.linear_5= nn.Linear(num_hidden, num_hidden)\n",
        "        self.relu_5= nn.Tanh()\n",
        "        \n",
        "        #6th Hidden Layer\n",
        "        self.linear_6 = nn.Linear(num_hidden, num_hidden)\n",
        "        self.relu_6 = nn.Tanh()\n",
        "\n",
        "        #7th Hidden Layer\n",
        "        self.linear_7 = nn.Linear(num_hidden, num_hidden)\n",
        "        self.relu_7 = nn.Tanh()\n",
        "\n",
        " \n",
        "        self.linear_out = nn.Linear(num_hidden, num_classes)\n",
        " \n",
        "    def forward(self, x):\n",
        "        out  = self.linear_1(x)\n",
        "        out = self.relu_1(out)\n",
        "        \n",
        "        out  = self.linear_2(out)\n",
        "        out = self.relu_2(out)\n",
        " \n",
        "        out  = self.linear_3(out)\n",
        "        out = self.relu_3(out)\n",
        " \n",
        "        out  = self.linear_4(out)\n",
        "        out = self.relu_4(out)\n",
        " \n",
        "        out  = self.linear_5(out)\n",
        "        out = self.relu_5(out)\n",
        " \n",
        "        out  = self.linear_6(out)\n",
        "        out = self.relu_6(out)\n",
        "\n",
        "        out  = self.linear_7(out)\n",
        "        out = self.relu_7(out)\n",
        "\n",
        "        \n",
        "        \n",
        "        probas  = self.linear_out(out)\n",
        "        return probas\n",
        "\n",
        "\n",
        "# INSTANTIATE MODEL CLASS\n",
        "\n",
        "model = DeepNeuralNetworkModel(input_size = input_dim,\n",
        "                               num_classes = output_dim,\n",
        "                               num_hidden = num_hidden)\n",
        "# To enable GPU\n",
        "model.to(device)\n",
        "\n",
        "# INSTANTIATE LOSS & OPTIMIZER CLASS\n",
        "\n",
        "criterion = nn.CrossEntropyLoss()\n",
        "optimizer = torch.optim.SGD(model.parameters(), lr=learning_rate)\n",
        "\n",
        "iteration_loss = []\n",
        "iter = 0\n",
        "for epoch in range(num_epochs):\n",
        "    for i, (images, labels) in enumerate(train_loader):\n",
        "\n",
        "        images = images.view(-1, 28*28).to(device)\n",
        "        labels = labels.to(device)\n",
        "\n",
        "        # Clear gradients w.r.t. parameters\n",
        "        optimizer.zero_grad()\n",
        "\n",
        "        # Forward pass to get output/logits\n",
        "        outputs = model(images) \n",
        "\n",
        "        # Calculate Loss: softmax --> cross entropy loss\n",
        "        loss = criterion(outputs, labels)\n",
        "\n",
        "        # Getting gradients w.r.t. parameters\n",
        "        loss.backward()\n",
        "\n",
        "        # Updating parameters\n",
        "        optimizer.step()\n",
        "\n",
        "        iter += 1\n",
        "\n",
        "        if iter % 500 == 0:\n",
        "            # Calculate Accuracy         \n",
        "            correct = 0\n",
        "            total = 0\n",
        "            # Iterate through test dataset\n",
        "            for images, labels in test_loader:\n",
        "               \n",
        "                images = images.view(-1, 28*28).to(device)\n",
        "\n",
        "                # Forward pass only to get logits/output\n",
        "                outputs = model(images)\n",
        "\n",
        "                # Get predictions from the maximum value\n",
        "                _, predicted = torch.max(outputs, 1)\n",
        "\n",
        "                # Total number of labels\n",
        "                total += labels.size(0)\n",
        "\n",
        "\n",
        "                # Total correct predictions\n",
        "                if torch.cuda.is_available():\n",
        "                    correct += (predicted.cpu() == labels.cpu()).sum() \n",
        "                else:\n",
        "                    correct += (predicted == labels).sum()\n",
        "\n",
        "            accuracy = 100 * correct.item() / total\n",
        "\n",
        "            # Print Loss\n",
        "            iteration_loss.append(loss.item())\n",
        "            print('Iteration: {}. Loss: {}. Accuracy: {}'.format(iter, loss.item(), accuracy))"
      ],
      "execution_count": 18,
      "outputs": [
        {
          "output_type": "stream",
          "name": "stdout",
          "text": [
            "83\n",
            "Iteration: 500. Loss: 2.3041868209838867. Accuracy: 10.0\n",
            "Iteration: 1000. Loss: 2.302584171295166. Accuracy: 10.0\n",
            "Iteration: 1500. Loss: 2.3023245334625244. Accuracy: 10.0\n",
            "Iteration: 2000. Loss: 2.3026392459869385. Accuracy: 10.0\n",
            "Iteration: 2500. Loss: 2.3029770851135254. Accuracy: 10.0\n",
            "Iteration: 3000. Loss: 2.3028488159179688. Accuracy: 10.0\n",
            "Iteration: 3500. Loss: 2.302424430847168. Accuracy: 10.0\n",
            "Iteration: 4000. Loss: 2.3027007579803467. Accuracy: 10.0\n",
            "Iteration: 4500. Loss: 2.302755832672119. Accuracy: 10.0\n",
            "Iteration: 5000. Loss: 2.3028786182403564. Accuracy: 10.04\n",
            "Iteration: 5500. Loss: 2.302560567855835. Accuracy: 10.0\n",
            "Iteration: 6000. Loss: 2.3026018142700195. Accuracy: 10.0\n",
            "Iteration: 6500. Loss: 2.302400588989258. Accuracy: 10.0\n",
            "Iteration: 7000. Loss: 2.3027448654174805. Accuracy: 10.76\n",
            "Iteration: 7500. Loss: 2.302842617034912. Accuracy: 10.0\n",
            "Iteration: 8000. Loss: 2.3025355339050293. Accuracy: 10.0\n",
            "Iteration: 8500. Loss: 2.3026156425476074. Accuracy: 10.0\n",
            "Iteration: 9000. Loss: 2.302375078201294. Accuracy: 10.0\n",
            "Iteration: 9500. Loss: 2.3026082515716553. Accuracy: 10.0\n",
            "Iteration: 10000. Loss: 2.3027756214141846. Accuracy: 10.0\n",
            "Iteration: 10500. Loss: 2.3024113178253174. Accuracy: 10.0\n",
            "Iteration: 11000. Loss: 2.3026084899902344. Accuracy: 10.0\n",
            "Iteration: 11500. Loss: 2.3026418685913086. Accuracy: 10.0\n",
            "Iteration: 12000. Loss: 2.30267596244812. Accuracy: 10.0\n",
            "Iteration: 12500. Loss: 2.3025829792022705. Accuracy: 10.0\n",
            "Iteration: 13000. Loss: 2.3024842739105225. Accuracy: 10.0\n",
            "Iteration: 13500. Loss: 2.3024978637695312. Accuracy: 10.0\n",
            "Iteration: 14000. Loss: 2.3027260303497314. Accuracy: 10.0\n",
            "Iteration: 14500. Loss: 2.302518606185913. Accuracy: 10.0\n",
            "Iteration: 15000. Loss: 2.3024370670318604. Accuracy: 10.0\n",
            "Iteration: 15500. Loss: 2.302783489227295. Accuracy: 10.0\n",
            "Iteration: 16000. Loss: 2.302840232849121. Accuracy: 10.0\n",
            "Iteration: 16500. Loss: 2.302616596221924. Accuracy: 9.88\n",
            "Iteration: 17000. Loss: 2.3027586936950684. Accuracy: 10.0\n",
            "Iteration: 17500. Loss: 2.302738666534424. Accuracy: 10.0\n",
            "Iteration: 18000. Loss: 2.3026278018951416. Accuracy: 10.05\n",
            "Iteration: 18500. Loss: 2.3025240898132324. Accuracy: 10.0\n",
            "Iteration: 19000. Loss: 2.302501916885376. Accuracy: 10.0\n",
            "Iteration: 19500. Loss: 2.3024168014526367. Accuracy: 10.0\n"
          ]
        }
      ]
    },
    {
      "cell_type": "code",
      "metadata": {
        "colab": {
          "base_uri": "https://localhost:8080/",
          "height": 317
        },
        "id": "sRwHUTSiRARF",
        "outputId": "a58bde6a-a7a4-4c9e-93bf-0369a68ac2a4"
      },
      "source": [
        "import matplotlib\n",
        "import matplotlib.pyplot as plt\n",
        "\n",
        "print (iteration_loss)\n",
        "plt.plot(iteration_loss)\n",
        "plt.ylabel('Loss')\n",
        "plt.xlabel('Iteration (in every 500)')\n",
        "plt.show()"
      ],
      "execution_count": 19,
      "outputs": [
        {
          "output_type": "stream",
          "name": "stdout",
          "text": [
            "[2.3041868209838867, 2.302584171295166, 2.3023245334625244, 2.3026392459869385, 2.3029770851135254, 2.3028488159179688, 2.302424430847168, 2.3027007579803467, 2.302755832672119, 2.3028786182403564, 2.302560567855835, 2.3026018142700195, 2.302400588989258, 2.3027448654174805, 2.302842617034912, 2.3025355339050293, 2.3026156425476074, 2.302375078201294, 2.3026082515716553, 2.3027756214141846, 2.3024113178253174, 2.3026084899902344, 2.3026418685913086, 2.30267596244812, 2.3025829792022705, 2.3024842739105225, 2.3024978637695312, 2.3027260303497314, 2.302518606185913, 2.3024370670318604, 2.302783489227295, 2.302840232849121, 2.302616596221924, 2.3027586936950684, 2.302738666534424, 2.3026278018951416, 2.3025240898132324, 2.302501916885376, 2.3024168014526367]\n"
          ]
        },
        {
          "output_type": "display_data",
          "data": {
            "image/png": "[encoded data removed]",
            "text/plain": [
              "<Figure size 432x288 with 1 Axes>"
            ]
          },
          "metadata": {
            "needs_background": "light"
          }
        }
      ]
    },
    {
      "cell_type": "code",
      "metadata": {
        "id": "nPuF3fuNVaRQ"
      },
      "source": [
        ""
      ],
      "execution_count": null,
      "outputs": []
    }
  ]
}